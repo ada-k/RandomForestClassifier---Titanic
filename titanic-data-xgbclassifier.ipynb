{
 "cells": [
  {
   "cell_type": "code",
   "execution_count": 1,
   "metadata": {
    "_cell_guid": "b1076dfc-b9ad-4769-8c92-a6c4dae69d19",
    "_uuid": "8f2839f25d086af736a60e9eeb907d3b93b6e0e5"
   },
   "outputs": [
    {
     "name": "stdout",
     "output_type": "stream",
     "text": [
      "/kaggle/input/titanic/gender_submission.csv\n",
      "/kaggle/input/titanic/test.csv\n",
      "/kaggle/input/titanic/train.csv\n"
     ]
    }
   ],
   "source": [
    "import numpy as np\n",
    "import pandas as pd \n",
    "import matplotlib.pyplot as plt\n",
    "import seaborn as sns\n",
    "from sklearn.impute import SimpleImputer\n",
    "from sklearn.decomposition import PCA\n",
    "from sklearn.ensemble import RandomForestClassifier, GradientBoostingClassifier\n",
    "import xgboost as xgb\n",
    "from xgboost import XGBClassifier\n",
    "from statistics import mean\n",
    "import re\n",
    "from scipy.stats import skew, norm\n",
    "from scipy.special import boxcox1p\n",
    "from scipy.stats import boxcox_normmax\n",
    "import lightgbm as lgb\n",
    "\n",
    "\n",
    "import os\n",
    "for dirname, _, filenames in os.walk('/kaggle/input'):\n",
    "    for filename in filenames:\n",
    "        print(os.path.join(dirname, filename))"
   ]
  },
  {
   "cell_type": "code",
   "execution_count": 2,
   "metadata": {
    "_cell_guid": "79c7e3d0-c299-4dcb-8224-4455121ee9b0",
    "_uuid": "d629ff2d2480ee46fbb7e2d37f6b5fab8052498a"
   },
   "outputs": [
    {
     "data": {
      "text/html": [
       "<div>\n",
       "<style scoped>\n",
       "    .dataframe tbody tr th:only-of-type {\n",
       "        vertical-align: middle;\n",
       "    }\n",
       "\n",
       "    .dataframe tbody tr th {\n",
       "        vertical-align: top;\n",
       "    }\n",
       "\n",
       "    .dataframe thead th {\n",
       "        text-align: right;\n",
       "    }\n",
       "</style>\n",
       "<table border=\"1\" class=\"dataframe\">\n",
       "  <thead>\n",
       "    <tr style=\"text-align: right;\">\n",
       "      <th></th>\n",
       "      <th>PassengerId</th>\n",
       "      <th>Survived</th>\n",
       "      <th>Pclass</th>\n",
       "      <th>Name</th>\n",
       "      <th>Sex</th>\n",
       "      <th>Age</th>\n",
       "      <th>SibSp</th>\n",
       "      <th>Parch</th>\n",
       "      <th>Ticket</th>\n",
       "      <th>Fare</th>\n",
       "      <th>Cabin</th>\n",
       "      <th>Embarked</th>\n",
       "    </tr>\n",
       "  </thead>\n",
       "  <tbody>\n",
       "    <tr>\n",
       "      <th>0</th>\n",
       "      <td>1</td>\n",
       "      <td>0</td>\n",
       "      <td>3</td>\n",
       "      <td>Braund, Mr. Owen Harris</td>\n",
       "      <td>male</td>\n",
       "      <td>22.0</td>\n",
       "      <td>1</td>\n",
       "      <td>0</td>\n",
       "      <td>A/5 21171</td>\n",
       "      <td>7.2500</td>\n",
       "      <td>NaN</td>\n",
       "      <td>S</td>\n",
       "    </tr>\n",
       "    <tr>\n",
       "      <th>1</th>\n",
       "      <td>2</td>\n",
       "      <td>1</td>\n",
       "      <td>1</td>\n",
       "      <td>Cumings, Mrs. John Bradley (Florence Briggs Th...</td>\n",
       "      <td>female</td>\n",
       "      <td>38.0</td>\n",
       "      <td>1</td>\n",
       "      <td>0</td>\n",
       "      <td>PC 17599</td>\n",
       "      <td>71.2833</td>\n",
       "      <td>C85</td>\n",
       "      <td>C</td>\n",
       "    </tr>\n",
       "    <tr>\n",
       "      <th>2</th>\n",
       "      <td>3</td>\n",
       "      <td>1</td>\n",
       "      <td>3</td>\n",
       "      <td>Heikkinen, Miss. Laina</td>\n",
       "      <td>female</td>\n",
       "      <td>26.0</td>\n",
       "      <td>0</td>\n",
       "      <td>0</td>\n",
       "      <td>STON/O2. 3101282</td>\n",
       "      <td>7.9250</td>\n",
       "      <td>NaN</td>\n",
       "      <td>S</td>\n",
       "    </tr>\n",
       "    <tr>\n",
       "      <th>3</th>\n",
       "      <td>4</td>\n",
       "      <td>1</td>\n",
       "      <td>1</td>\n",
       "      <td>Futrelle, Mrs. Jacques Heath (Lily May Peel)</td>\n",
       "      <td>female</td>\n",
       "      <td>35.0</td>\n",
       "      <td>1</td>\n",
       "      <td>0</td>\n",
       "      <td>113803</td>\n",
       "      <td>53.1000</td>\n",
       "      <td>C123</td>\n",
       "      <td>S</td>\n",
       "    </tr>\n",
       "    <tr>\n",
       "      <th>4</th>\n",
       "      <td>5</td>\n",
       "      <td>0</td>\n",
       "      <td>3</td>\n",
       "      <td>Allen, Mr. William Henry</td>\n",
       "      <td>male</td>\n",
       "      <td>35.0</td>\n",
       "      <td>0</td>\n",
       "      <td>0</td>\n",
       "      <td>373450</td>\n",
       "      <td>8.0500</td>\n",
       "      <td>NaN</td>\n",
       "      <td>S</td>\n",
       "    </tr>\n",
       "  </tbody>\n",
       "</table>\n",
       "</div>"
      ],
      "text/plain": [
       "   PassengerId  Survived  Pclass  \\\n",
       "0            1         0       3   \n",
       "1            2         1       1   \n",
       "2            3         1       3   \n",
       "3            4         1       1   \n",
       "4            5         0       3   \n",
       "\n",
       "                                                Name     Sex   Age  SibSp  \\\n",
       "0                            Braund, Mr. Owen Harris    male  22.0      1   \n",
       "1  Cumings, Mrs. John Bradley (Florence Briggs Th...  female  38.0      1   \n",
       "2                             Heikkinen, Miss. Laina  female  26.0      0   \n",
       "3       Futrelle, Mrs. Jacques Heath (Lily May Peel)  female  35.0      1   \n",
       "4                           Allen, Mr. William Henry    male  35.0      0   \n",
       "\n",
       "   Parch            Ticket     Fare Cabin Embarked  \n",
       "0      0         A/5 21171   7.2500   NaN        S  \n",
       "1      0          PC 17599  71.2833   C85        C  \n",
       "2      0  STON/O2. 3101282   7.9250   NaN        S  \n",
       "3      0            113803  53.1000  C123        S  \n",
       "4      0            373450   8.0500   NaN        S  "
      ]
     },
     "execution_count": 2,
     "metadata": {},
     "output_type": "execute_result"
    }
   ],
   "source": [
    "#importing datasets\n",
    "train = pd.read_csv(\"/kaggle/input/titanic/train.csv\")\n",
    "test = pd.read_csv(\"/kaggle/input/titanic/test.csv\")\n",
    "train.head()"
   ]
  },
  {
   "cell_type": "markdown",
   "execution_count": null,
   "metadata": {},
   "source": [
    "### Numerical and categorical columns"
   ]
  },
  {
   "cell_type": "code",
   "execution_count": 3,
   "metadata": {},
   "outputs": [
    {
     "name": "stdout",
     "output_type": "stream",
     "text": [
      "Index(['Pclass', 'Age', 'SibSp', 'Parch', 'Fare', 'Name', 'Sex', 'Ticket',\n",
      "       'Cabin', 'Embarked'],\n",
      "      dtype='object') (891, 10)\n",
      "(891,)\n",
      "Index(['Pclass', 'Age', 'SibSp', 'Parch', 'Fare', 'Name', 'Sex', 'Ticket',\n",
      "       'Cabin', 'Embarked'],\n",
      "      dtype='object') (418, 10)\n"
     ]
    }
   ],
   "source": [
    "#drop id columns\n",
    "train = train.drop('PassengerId', axis = 1)\n",
    "test = test.drop('PassengerId', axis = 1)\n",
    "\n",
    "train_features = train.drop('Survived', axis = 1)\n",
    "train_dependent = train['Survived']\n",
    "\n",
    "numerical_cols = []\n",
    "categorical_cols = []\n",
    "for col in train_features.columns:\n",
    "    if train_features[col].dtype in  ['int16', 'int32', 'int64', 'float16', 'float32', 'float64']:\n",
    "        numerical_cols.append(col)\n",
    "    elif train_features[col].dtype == object:\n",
    "        categorical_cols.append(col)\n",
    "        \n",
    "columns = numerical_cols + categorical_cols\n",
    "train_features = train_features[columns]\n",
    "test = test[columns]\n",
    "\n",
    "print(train_features.columns, train_features.shape)\n",
    "print(train_dependent.shape)\n",
    "print(test.columns, test.shape)"
   ]
  },
  {
   "cell_type": "code",
   "execution_count": 4,
   "metadata": {},
   "outputs": [
    {
     "data": {
      "text/plain": [
       "Pclass        int64\n",
       "Age         float64\n",
       "SibSp         int64\n",
       "Parch         int64\n",
       "Fare        float64\n",
       "Name         object\n",
       "Sex          object\n",
       "Ticket       object\n",
       "Cabin        object\n",
       "Embarked     object\n",
       "dtype: object"
      ]
     },
     "execution_count": 4,
     "metadata": {},
     "output_type": "execute_result"
    }
   ],
   "source": [
    "#merge train_features and test\n",
    "features = pd.concat([train_features, test], axis = 0)\n",
    "features.dtypes"
   ]
  },
  {
   "cell_type": "markdown",
   "execution_count": null,
   "metadata": {},
   "source": [
    "## Null Values"
   ]
  },
  {
   "cell_type": "markdown",
   "execution_count": null,
   "metadata": {},
   "source": [
    "### Numerical columns"
   ]
  },
  {
   "cell_type": "code",
   "execution_count": 5,
   "metadata": {},
   "outputs": [
    {
     "data": {
      "text/plain": [
       "Age       263\n",
       "Fare        1\n",
       "Parch       0\n",
       "SibSp       0\n",
       "Pclass      0\n",
       "dtype: int64"
      ]
     },
     "execution_count": 5,
     "metadata": {},
     "output_type": "execute_result"
    }
   ],
   "source": [
    "null = features[numerical_cols].isna().sum().sort_values(ascending = False)\n",
    "null"
   ]
  },
  {
   "cell_type": "code",
   "execution_count": 6,
   "metadata": {},
   "outputs": [],
   "source": [
    "#imputing missing values in the age column w/the mean.\n",
    "x = features.iloc[:, 1].values\n",
    "x = x.reshape(-1,1)\n",
    "imputer = SimpleImputer(missing_values=np.nan, strategy='mean')\n",
    "imputer = imputer.fit(x)\n",
    "x = imputer.transform(x)\n",
    "features.iloc[:, 1] = x"
   ]
  },
  {
   "cell_type": "code",
   "execution_count": 7,
   "metadata": {},
   "outputs": [
    {
     "data": {
      "text/html": [
       "<div>\n",
       "<style scoped>\n",
       "    .dataframe tbody tr th:only-of-type {\n",
       "        vertical-align: middle;\n",
       "    }\n",
       "\n",
       "    .dataframe tbody tr th {\n",
       "        vertical-align: top;\n",
       "    }\n",
       "\n",
       "    .dataframe thead th {\n",
       "        text-align: right;\n",
       "    }\n",
       "</style>\n",
       "<table border=\"1\" class=\"dataframe\">\n",
       "  <thead>\n",
       "    <tr style=\"text-align: right;\">\n",
       "      <th></th>\n",
       "      <th>Pclass</th>\n",
       "      <th>Age</th>\n",
       "      <th>SibSp</th>\n",
       "      <th>Parch</th>\n",
       "      <th>Fare</th>\n",
       "      <th>Name</th>\n",
       "      <th>Sex</th>\n",
       "      <th>Ticket</th>\n",
       "      <th>Cabin</th>\n",
       "      <th>Embarked</th>\n",
       "    </tr>\n",
       "  </thead>\n",
       "  <tbody>\n",
       "    <tr>\n",
       "      <th>152</th>\n",
       "      <td>3</td>\n",
       "      <td>60.5</td>\n",
       "      <td>0</td>\n",
       "      <td>0</td>\n",
       "      <td>NaN</td>\n",
       "      <td>Storey, Mr. Thomas</td>\n",
       "      <td>male</td>\n",
       "      <td>3701</td>\n",
       "      <td>NaN</td>\n",
       "      <td>S</td>\n",
       "    </tr>\n",
       "  </tbody>\n",
       "</table>\n",
       "</div>"
      ],
      "text/plain": [
       "     Pclass   Age  SibSp  Parch  Fare                Name   Sex Ticket Cabin  \\\n",
       "152       3  60.5      0      0   NaN  Storey, Mr. Thomas  male   3701   NaN   \n",
       "\n",
       "    Embarked  \n",
       "152        S  "
      ]
     },
     "execution_count": 7,
     "metadata": {},
     "output_type": "execute_result"
    }
   ],
   "source": [
    "#handling null fare values\n",
    "#Check the row with null Fare Value since its only one record\n",
    "features[features[\"Fare\"].isnull()]"
   ]
  },
  {
   "cell_type": "code",
   "execution_count": 8,
   "metadata": {},
   "outputs": [],
   "source": [
    "#check for Fare prices for passengers in 3rd class who embarked from Southampton.\n",
    "for a,b,c in zip(features[\"Fare\"], features[\"Pclass\"], features[\"Embarked\"]):\n",
    "    if b == 3 and c == \"S\":\n",
    "        fare = a\n",
    "\n",
    "#find the average fare for these passengers\n",
    "class_3_list = [fare]\n",
    "m = mean(class_3_list)\n",
    "\n",
    "#replace the nan with this average\n",
    "features[\"Fare\"].fillna(m, inplace = True) "
   ]
  },
  {
   "cell_type": "markdown",
   "execution_count": null,
   "metadata": {},
   "source": [
    "### Categorical columns"
   ]
  },
  {
   "cell_type": "code",
   "execution_count": 9,
   "metadata": {},
   "outputs": [
    {
     "data": {
      "text/plain": [
       "Cabin       1014\n",
       "Embarked       2\n",
       "Ticket         0\n",
       "Sex            0\n",
       "Name           0\n",
       "dtype: int64"
      ]
     },
     "execution_count": 9,
     "metadata": {},
     "output_type": "execute_result"
    }
   ],
   "source": [
    "null = features[categorical_cols].isnull().sum().sort_values(ascending = False)\n",
    "null"
   ]
  },
  {
   "cell_type": "code",
   "execution_count": 10,
   "metadata": {},
   "outputs": [],
   "source": [
    "#dealing w/missing cabin data in both datasets\n",
    "deck = {\"A\": 1, \"B\": 2, \"C\": 3, \"D\": 4, \"E\": 5, \"F\": 6, \"G\": 7, \"U\": 8}\n",
    "\n",
    "features['Cabin'] = features['Cabin'].fillna(\"U0\")\n",
    "features['Deck'] = features['Cabin'].map(lambda x: re.compile(\"([a-zA-Z]+)\").search(x).group())\n",
    "features['Deck'] = features['Deck'].map(deck)\n",
    "features['Deck'] = features['Deck'].fillna(0)\n",
    "features['Deck'] = features['Deck'].astype(int)\n",
    "features = features.drop(['Cabin'], axis=1)"
   ]
  },
  {
   "cell_type": "code",
   "execution_count": 11,
   "metadata": {},
   "outputs": [],
   "source": [
    "#imputing null values in Embarked column w/the value with highest frequency.\n",
    "y = features.iloc[:, -1].values\n",
    "y = y.reshape(-1,1)\n",
    "imputer = SimpleImputer(missing_values=np.nan, strategy='most_frequent')\n",
    "imputer = imputer.fit(y)\n",
    "y = imputer.transform(y)\n",
    "features.iloc[:, -1] = y"
   ]
  },
  {
   "cell_type": "code",
   "execution_count": 12,
   "metadata": {},
   "outputs": [
    {
     "data": {
      "text/plain": [
       "Pclass      False\n",
       "Age         False\n",
       "SibSp       False\n",
       "Parch       False\n",
       "Fare        False\n",
       "Name        False\n",
       "Sex         False\n",
       "Ticket      False\n",
       "Embarked     True\n",
       "Deck        False\n",
       "dtype: bool"
      ]
     },
     "execution_count": 12,
     "metadata": {},
     "output_type": "execute_result"
    }
   ],
   "source": [
    "features.isna().any()"
   ]
  },
  {
   "cell_type": "markdown",
   "execution_count": null,
   "metadata": {},
   "source": [
    "#### Transforming 'Name' column"
   ]
  },
  {
   "cell_type": "code",
   "execution_count": 13,
   "metadata": {},
   "outputs": [],
   "source": [
    "#handling the name column\n",
    "titles = {\"Mr\": 0, \"Mrs\": 1, \"Miss\": 2, \"Master\": 3, \"Rare\": 4}\n",
    "\n",
    "# extract titles\n",
    "features['Title'] = features.Name.str.extract(' ([A-Za-z]+)\\.', expand=False)\n",
    "\n",
    "# replace titles with a more common title or as Rare\n",
    "features['Title'] = features['Title'].replace(['Lady', 'Countess','Capt', 'Col','Don', 'Dr',\\\n",
    "                                        'Major', 'Rev', 'Sir', 'Jonkheer', 'Dona'], 'Rare')\n",
    "features['Title'] = features['Title'].replace('Mlle', 'Miss')\n",
    "features['Title'] = features['Title'].replace('Ms', 'Miss')\n",
    "features['Title'] = features['Title'].replace('Mme', 'Mrs')\n",
    "\n",
    "# convert titles into numbers\n",
    "features['Title'] = features['Title'].map(titles)\n",
    "\n",
    "# filling NaN with 0, to get safe\n",
    "features['Title'] = features['Title'].fillna(0)\n",
    "\n",
    "features = features.drop(['Name'], axis=1)"
   ]
  },
  {
   "cell_type": "markdown",
   "execution_count": null,
   "metadata": {},
   "source": [
    "### creating Age groups"
   ]
  },
  {
   "cell_type": "code",
   "execution_count": 14,
   "metadata": {},
   "outputs": [],
   "source": [
    "#creating categories\n",
    "#age\n",
    "features['Age'] = features['Age'].astype(int)\n",
    "features.loc[ features['Age'] <= 11, 'Age'] = 0\n",
    "features.loc[(features['Age'] > 11) & (features['Age'] <= 18), 'Age'] = 1\n",
    "features.loc[(features['Age'] > 18) & (features['Age'] <= 22), 'Age'] = 2\n",
    "features.loc[(features['Age'] > 22) & (features['Age'] <= 27), 'Age'] = 3\n",
    "features.loc[(features['Age'] > 27) & (features['Age'] <= 33), 'Age'] = 4\n",
    "features.loc[(features['Age'] > 33) & (features['Age'] <= 40), 'Age'] = 5\n",
    "features.loc[(features['Age'] > 40) & (features['Age'] <= 66), 'Age'] = 6\n",
    "features.loc[ features['Age'] > 66, 'Age'] = 7\n",
    "features['Age'] = features['Age'].astype(int)"
   ]
  },
  {
   "cell_type": "code",
   "execution_count": 15,
   "metadata": {},
   "outputs": [
    {
     "data": {
      "text/plain": [
       "0    0\n",
       "1    1\n",
       "2    1\n",
       "3    1\n",
       "4    0\n",
       "Name: Survived, dtype: int64"
      ]
     },
     "execution_count": 15,
     "metadata": {},
     "output_type": "execute_result"
    }
   ],
   "source": [
    "train_dependent.head()"
   ]
  },
  {
   "cell_type": "markdown",
   "execution_count": null,
   "metadata": {},
   "source": [
    "### Feature Generation"
   ]
  },
  {
   "cell_type": "code",
   "execution_count": 16,
   "metadata": {},
   "outputs": [
    {
     "data": {
      "text/plain": [
       "Index(['Pclass', 'Age', 'SibSp', 'Parch', 'Fare', 'Sex', 'Embarked', 'Deck',\n",
       "       'Title', 'Age_Class', 'Fare_Class'],\n",
       "      dtype='object')"
      ]
     },
     "execution_count": 16,
     "metadata": {},
     "output_type": "execute_result"
    }
   ],
   "source": [
    "features['Age_Class']= features['Age'] * features['Pclass']\n",
    "features['Fare_Class']= features['Fare'] * features['Pclass']\n",
    "features = features.drop(['Ticket'], axis=1)\n",
    "features.columns"
   ]
  },
  {
   "cell_type": "code",
   "execution_count": 17,
   "metadata": {},
   "outputs": [],
   "source": [
    "# def ticket_clean():\n",
    "\n",
    "#     global combined\n",
    "\n",
    "#     # A function that extracts each prefix of the ticket, returns 'Unknown' if no prefix (i.e the ticket is a digit)\n",
    "#     def cleanTicket(ticket):\n",
    "#         ticket = ticket.replace('.', '')\n",
    "#         ticket = ticket.replace('/', '')\n",
    "#         ticket = ticket.split()\n",
    "#         ticket = map(lambda t: t.strip(), ticket)\n",
    "#         ticket = list(filter(lambda t: not t.isdigit(), ticket))\n",
    "#         if len(ticket) > 0:\n",
    "#             return ticket[0]\n",
    "#         else:\n",
    "#             return 'Unknown'\n",
    "\n",
    "#     # Extracting dummy variables from tickets:\n",
    "\n",
    "#     features['Ticket'] = features['Ticket'].map(cleanTicket)\n",
    "#     tickets_dummies = pd.get_dummies(features['Ticket'], prefix='Ticket')\n",
    "#     features = pd.concat([features, tickets_dummies], axis=1)\n",
    "#     features.drop('Ticket', inplace=True, axis=1)\n",
    "\n",
    "#     status('Ticket')\n",
    "#     return features\n",
    "\n",
    "# features = ticket_clean()"
   ]
  },
  {
   "cell_type": "markdown",
   "execution_count": null,
   "metadata": {},
   "source": [
    "## Skewness"
   ]
  },
  {
   "cell_type": "code",
   "execution_count": 18,
   "metadata": {},
   "outputs": [
    {
     "name": "stdout",
     "output_type": "stream",
     "text": [
      "There are 3 numerical features with Skew > 0.5 :\n"
     ]
    },
    {
     "data": {
      "text/plain": [
       "Fare      4.364205\n",
       "SibSp     3.839814\n",
       "Parch     3.664872\n",
       "Age      -0.417598\n",
       "Pclass   -0.597961\n",
       "dtype: float64"
      ]
     },
     "execution_count": 18,
     "metadata": {},
     "output_type": "execute_result"
    }
   ],
   "source": [
    "# numerical variables\n",
    "skew_features = features[numerical_cols].apply(lambda x: skew(x)).sort_values(ascending=False)\n",
    "\n",
    "high_skew = skew_features[skew_features > 0.5]\n",
    "skew_index = high_skew.index\n",
    "\n",
    "print(\"There are {} numerical features with Skew > 0.5 :\".format(high_skew.shape[0]))\n",
    "skewness = pd.DataFrame({'Skew' :high_skew})\n",
    "skew_features"
   ]
  },
  {
   "cell_type": "code",
   "execution_count": 19,
   "metadata": {},
   "outputs": [],
   "source": [
    "# Normalize skewed features with boxcox transformation\n",
    "for i in skew_index:\n",
    "    features[i] = boxcox1p(features[i], boxcox_normmax(features[i] + 1))"
   ]
  },
  {
   "cell_type": "markdown",
   "execution_count": null,
   "metadata": {},
   "source": [
    "## Multicolinearity"
   ]
  },
  {
   "cell_type": "code",
   "execution_count": 20,
   "metadata": {},
   "outputs": [],
   "source": [
    "#defining numerical features again to include the added features for the correlation plot to be plotted.\n",
    "numerical_cols= []\n",
    "for column in train_features.columns:\n",
    "    if train_features[column].dtype in ['int16', 'int32', 'int64', 'float16', 'float32', 'float64']:\n",
    "        numerical_cols.append(column)\n",
    "\n",
    "new_train_set = pd.concat([features.iloc[:len(train_dependent), :], train_dependent], axis=1)"
   ]
  },
  {
   "cell_type": "code",
   "execution_count": 21,
   "metadata": {},
   "outputs": [
    {
     "data": {
      "image/png": "[encoded data removed]",
      "text/plain": [
       "<Figure size 864x720 with 2 Axes>"
      ]
     },
     "metadata": {},
     "output_type": "display_data"
    }
   ],
   "source": [
    "def correlation_map(f_data, f_feature, f_number):\n",
    "    f_most_correlated = f_data.corr().nlargest(f_number,f_feature)[f_feature].index\n",
    "    f_correlation = f_data[f_most_correlated].corr()\n",
    "    \n",
    "    f_mask = np.zeros_like(f_correlation)\n",
    "    f_mask[np.triu_indices_from(f_mask)] = True\n",
    "    with sns.axes_style(\"white\"):\n",
    "        f_fig, f_ax = plt.subplots(figsize=(12, 10))\n",
    "        f_ax = sns.heatmap(f_correlation, mask=f_mask, vmin=0, vmax=1, square=True,\n",
    "                           annot=True, annot_kws={\"size\": 10}, cmap=\"BuPu\")\n",
    "\n",
    "    plt.show()\n",
    "\n",
    "correlation_map(new_train_set, 'Survived', 20)"
   ]
  },
  {
   "cell_type": "markdown",
   "execution_count": null,
   "metadata": {},
   "source": [
    "Good enough"
   ]
  },
  {
   "cell_type": "markdown",
   "execution_count": null,
   "metadata": {},
   "source": [
    "## Encoding categorical variables"
   ]
  },
  {
   "cell_type": "code",
   "execution_count": 22,
   "metadata": {},
   "outputs": [
    {
     "data": {
      "text/plain": [
       "(1309, 14)"
      ]
     },
     "execution_count": 22,
     "metadata": {},
     "output_type": "execute_result"
    }
   ],
   "source": [
    "features = pd.get_dummies(features).reset_index(drop=True)\n",
    "features.shape"
   ]
  },
  {
   "cell_type": "markdown",
   "execution_count": null,
   "metadata": {},
   "source": [
    "### Dropping columns with 0 predominant values"
   ]
  },
  {
   "cell_type": "code",
   "execution_count": 23,
   "metadata": {},
   "outputs": [
    {
     "name": "stdout",
     "output_type": "stream",
     "text": [
      "\n",
      "Features with predominant zeroes:\n",
      "\n",
      "[]\n"
     ]
    },
    {
     "data": {
      "text/plain": [
       "(1309, 14)"
      ]
     },
     "execution_count": 23,
     "metadata": {},
     "output_type": "execute_result"
    }
   ],
   "source": [
    "features_to_be_dropped = []\n",
    "for feature in features.columns:\n",
    "    all_value_counts = features[feature].value_counts()\n",
    "    zero_value_counts = all_value_counts.iloc[0]\n",
    "    if zero_value_counts / len(features) > 0.995:\n",
    "        features_to_be_dropped.append(feature)\n",
    "print('\\nFeatures with predominant zeroes:\\n')\n",
    "print(features_to_be_dropped)\n",
    "\n",
    "features = features.drop(features_to_be_dropped, axis=1).copy()\n",
    "features.shape"
   ]
  },
  {
   "cell_type": "markdown",
   "execution_count": null,
   "metadata": {},
   "source": [
    "No columns was dropped."
   ]
  },
  {
   "cell_type": "markdown",
   "execution_count": null,
   "metadata": {},
   "source": [
    "## Reconstructing train and test sets"
   ]
  },
  {
   "cell_type": "code",
   "execution_count": 24,
   "metadata": {},
   "outputs": [],
   "source": [
    "x_train = features.iloc[:len(train_dependent), :]\n",
    "x_test = features.iloc[len(train_dependent):, :]\n",
    "y_train = train_dependent\n",
    "train_set = pd.concat([x_train, y_train], axis=1)"
   ]
  },
  {
   "cell_type": "code",
   "execution_count": 25,
   "metadata": {},
   "outputs": [
    {
     "name": "stdout",
     "output_type": "stream",
     "text": [
      "train features: (891, 14)\n",
      "train target: (891,)\n",
      "test features: (418, 14)\n",
      "train set: (891, 15)\n"
     ]
    }
   ],
   "source": [
    "print('train features:', x_train.shape)\n",
    "print('train target:', y_train.shape)\n",
    "print('test features:', x_test.shape)\n",
    "print('train set:', train_set.shape)"
   ]
  },
  {
   "cell_type": "markdown",
   "execution_count": null,
   "metadata": {},
   "source": [
    "## Fitting & Predicting ~ XGBoostClassifier"
   ]
  },
  {
   "cell_type": "code",
   "execution_count": 26,
   "metadata": {},
   "outputs": [],
   "source": [
    "xg = xgb.XGBClassifier(\n",
    "    n_estimators=2800,\n",
    "    min_child_weight=0.1,\n",
    "    learning_rate=0.002,\n",
    "    max_depth=2,\n",
    "    subsample=0.47,\n",
    "    colsample_bytree=0.35,\n",
    "    gamma=0.4,\n",
    "    reg_lambda=0.4,\n",
    "    random_state=42,\n",
    "    n_jobs=-1,\n",
    ")\n",
    "\n",
    "xg.fit(x_train, y_train, eval_metric='auc')\n",
    "y_pred = xg.predict(x_test)"
   ]
  },
  {
   "cell_type": "code",
   "execution_count": 27,
   "metadata": {},
   "outputs": [
    {
     "data": {
      "text/plain": [
       "(418,)"
      ]
     },
     "execution_count": 27,
     "metadata": {},
     "output_type": "execute_result"
    }
   ],
   "source": [
    "y_pred.shape"
   ]
  },
  {
   "cell_type": "markdown",
   "execution_count": null,
   "metadata": {},
   "source": [
    "## Submission File"
   ]
  },
  {
   "cell_type": "code",
   "execution_count": 28,
   "metadata": {},
   "outputs": [],
   "source": [
    "new_id = pd.read_csv('/kaggle/input/titanic/gender_submission.csv')\n",
    "submission_id = list(new_id['PassengerId'])"
   ]
  },
  {
   "cell_type": "code",
   "execution_count": 29,
   "metadata": {},
   "outputs": [],
   "source": [
    "predicted_survived = list(y_pred)\n",
    "\n",
    "new_id = test.iloc[:, 0]\n",
    "file = pd.DataFrame({'PassengerId':submission_id, 'Survived': predicted_survived})\n",
    "submission = file.set_index('PassengerId')\n",
    "submission.to_csv('sub.csv')\n"
   ]
  }
 ],
 "metadata": {
  "kernelspec": {
   "display_name": "Python 3",
   "language": "python",
   "name": "python3"
  },
  "language_info": {
   "codemirror_mode": {
    "name": "ipython",
    "version": 3
   },
   "file_extension": ".py",
   "mimetype": "text/x-python",
   "name": "python",
   "nbconvert_exporter": "python",
   "pygments_lexer": "ipython3",
   "version": "3.6.6"
  }
 },
 "nbformat": 4,
 "nbformat_minor": 4
}
